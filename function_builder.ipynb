{
 "cells": [
  {
   "cell_type": "code",
   "execution_count": 6,
   "metadata": {},
   "outputs": [],
   "source": [
    "import spacy\n",
    "import json\n",
    "from datetime import datetime, timedelta\n",
    "import typing as _type\n",
    "import re\n",
    "nlp = spacy.load('en_core_web_sm')\n",
    "\n",
    "quantity_pos = [\"NUM\"]\n",
    "quantity_tag = [\"CD\"]\n",
    "quantity_identifiers = [\"¼\", \"½\", \"¾\", \"⅓\", \"⅔\",\n",
    "                        \"⅕\", \"⅖\", \"⅗\", \"⅘\", \"⅙\", \"⅚\", \"⅛\", \"⅜\", \"⅝\", \"⅞\", \"\\d+\\/\\d+\"]\n",
    "quantity_unit_identifiers = [\"g\", \"gms\", \"grams\", \"l\", \"litres\", \"ml\", \"mL\", \"L\", \"dl\", \"dL\", \"teaspoon\", \"tablespoon\", \"cup\", \"pinch\", \"pinche\", \"piece\", \"pieces\", \"pinches\", \"handful\",\n",
    "                             \"pint\", \"quart\", \"quarters\", \"gallon\", \"mg\", \"pound\", \"ounce\", \"mm\", \"cm\", \"mililitres\", \"kg\", \"kilograms\", \"tsp\", \"tbsp\"]\n"
   ]
  },
  {
   "cell_type": "code",
   "execution_count": 7,
   "metadata": {},
   "outputs": [],
   "source": [
    "strings = [\n",
    "    'Whole wheat flour 3/4 cup',\n",
    "\n",
    "    'Gram flour (besan) 1/4 cup',\n",
    "\n",
    "    'Salt to taste',\n",
    "\n",
    "    'Peanuts 1 1/2 teaspoons',\n",
    "\n",
    "    'Turmeric powder 3/4 teaspoon',\n",
    "\n",
    "    'Red chilli powder 3/4 teaspoon',\n",
    "\n",
    "    'Asafoetida 2 pinches',\n",
    "\n",
    "    'Oil 2 tablespoons',\n",
    "\n",
    "    'Desi ghee 3 tablespoon',\n",
    "\n",
    "    'Dried red chillies 2',\n",
    "\n",
    "    'Fenugreek seeds (methi dana) 1/4 teaspoon',\n",
    "\n",
    "    'Mustard seeds 3/4 teaspoon',\n",
    "\n",
    "    'Curry leaves 10',\n",
    "\n",
    "    'Jaggery (gur), grated 1 teaspoon',\n",
    "\n",
    "    'Green chilli paste 1 1/2 teaspoon',\n",
    "\n",
    "    'Onion , finely chopped 1 small',\n",
    "\n",
    "    'Fresh coriander leaves, chopped 2 tablespoons',\n",
    "]\n",
    "\n",
    "\n",
    "phrases = [\n",
    "    \"I am going\",\n",
    "    \"200g prawns\",\n",
    "    \"200g crab meat\",\n",
    "    \"1 large potato, cooked until just soft & grated\",\n",
    "    \"4 curry leaves, chopped\",\n",
    "    \"handful of fresh coriander leaves\",\n",
    "    \"mustard oil for frying\",\n",
    "    \"1 tsp turmeric\",\n",
    "    \"1 fresh chilli, finely chopped\",\n",
    "    \"½ tsp Kashmiri chilli powder\",\n",
    "    \"1 tsp garam masala\",\n",
    "    \"½ tsp salt or to taste\",\n",
    "    \"juice from 1 lemon\",\n",
    "    \"3 tbsp gram flour\",\n",
    "    \"1 tsp chilli flakes\",\n",
    "]\n",
    "\n",
    "phrases2=[\n",
    "\"1 tsp cumin seeds\",\n",
    "\"1 bunch fresh coriander, leaves and stems\",\n",
    "\"½ bunch fresh mint leaves,  \",\n",
    "\"4 garlic cloves\",\n",
    "\"3cm piece of fresh ginger\",\n",
    "\"4 fresh green chillies\",\n",
    "\"1 tsp salt\",\n",
    "\"½ lemon, juice only\",\n",
    "\"1 tbsp oil\",\n",
    "\"3 tbsp thick Greek yogurt\",\n",
    "]\n",
    "\n",
    "phrases3=[\n",
    "\"1/2 cup Semiya (Vermicelli) , roasted\",\n",
    "\"1 small cauliflower\",\n",
    "\"2 potatoes, peeled cut into 4cm cubes\",\n",
    "\"2 tbsp mustard oil\",\n",
    "\"1 tsp mustard seeds\",\n",
    "\"1 tsp cumin seeds\",\n",
    "\"1 onion, finely chopped\",\n",
    "\"2 cloves garlic, finely chopped\",\n",
    "\"200g/½ tin tomatoes\",\n",
    "\"1 tbsp ginger, grated\",\n",
    "\"1 tsp salt\",\n",
    "\"1 tsp turmeric\",\n",
    "\"1 chilli, finely chopped\",\n",
    "\"1 tsp dried fenugreek\",\n",
    "\"1 tsp garam masala\",\n",
    "\"Handful chopped fresh coriander\",\n",
    "]"
   ]
  },
  {
   "cell_type": "code",
   "execution_count": 8,
   "metadata": {},
   "outputs": [],
   "source": [
    "def get_quantity_identifier_regexp(quantity_identifiers):\n",
    "    re_quantity_identifier_str = '\\w*[' + \\\n",
    "        ''.join(quantity_identifiers) + ']\\w*'\n",
    "    quantity_identifier_regexp = '('+re_quantity_identifier_str+')'\n",
    "    return quantity_identifier_regexp\n",
    "\n",
    "\n",
    "def get_quantity_unit_identifier_regexp(quantity_unit_identifiers):\n",
    "    re_quantity_unit_identifier_str = '(' + \\\n",
    "        '|'.join(quantity_unit_identifiers) + ')'\n",
    "    quantity_unit_identifier_regexp = re_quantity_unit_identifier_str\n",
    "    return quantity_unit_identifier_regexp\n"
   ]
  },
  {
   "cell_type": "code",
   "execution_count": 9,
   "metadata": {},
   "outputs": [
    {
     "name": "stdout",
     "output_type": "stream",
     "text": [
      "['Semiya', '1 / 2', 'cup', '( Vermicelli ) , roasted']\n",
      "['small cauliflower', '1', '', '']\n",
      "['potatoes peeled cut', '2 4', 'cm', ', into   cubes']\n",
      "['mustard oil', '2', 'tbsp', '']\n",
      "['mustard seeds', '1', 'tsp', '']\n",
      "['cumin seeds', '1', 'tsp', '']\n",
      "['onion', '1', '', ', finely chopped']\n",
      "['garlic', '2', '', 'cloves , finely chopped']\n",
      "['tin tomatoes', '200 g/½', '', '']\n",
      "['ginger', '1', 'tbsp', ', grated']\n",
      "['salt', '1', 'tsp', '']\n",
      "['turmeric', '1', 'tsp', '']\n",
      "['chilli', '1', '', ', finely chopped']\n",
      "['dried fenugreek', '1', 'tsp', '']\n",
      "['garam masala', '1', 'tsp', '']\n",
      "['fresh coriander', '', 'Handful', 'chopped']\n"
     ]
    }
   ],
   "source": [
    "for phrase in phrases3:\n",
    "    quantity_identifier_regexp = get_quantity_identifier_regexp(\n",
    "        quantity_identifiers)\n",
    "    quantity_unit_identifier_regexp = get_quantity_unit_identifier_regexp(\n",
    "        quantity_unit_identifiers)\n",
    "    name = []\n",
    "    name_string = \"\"\n",
    "    quantity = []\n",
    "    quantity_unit = []\n",
    "    ingredient = []\n",
    "    prep_hint = \"\"\n",
    "    phrase = \" \".join(re.split('(\\d+)',phrase))\n",
    "    doc = nlp(phrase)\n",
    "    # print(\"-\"*50)\n",
    "    # print(phrase)\n",
    "    deleted_tokens = []\n",
    "    indices = {c.strip().replace(\",\", \"\"): i for i,\n",
    "               c in enumerate(phrase.split())}\n",
    "    # print(indices)\n",
    "    for token in doc:\n",
    "        # print(token.text,\" \",token.pos_,\" \",token.dep_,\" \",token.tag_,\" \",token.is_stop)\n",
    "        if((token.pos_ in quantity_pos) or (token.tag_ in quantity_tag) or (re.fullmatch(quantity_identifier_regexp, token.lemma_))):\n",
    "            quantity.append(token.text)\n",
    "            deleted_tokens.append(token.i)\n",
    "        elif(re.fullmatch(quantity_unit_identifier_regexp, token.lemma_)):\n",
    "            quantity_unit.append(token.text)\n",
    "            deleted_tokens.append(token.i)\n",
    "        elif (((token.tag_ in ['NN']) or (token.dep_ in ['nsubj', 'ROOT'])) and (token.pos_ in ['NOUN', 'PROPN'])):\n",
    "            name.append(token.text)\n",
    "            for child in token.children:\n",
    "                # print(child.text,\" \",child.pos_,\" \",child.dep_)\n",
    "                if((child.dep_ in ['amod', 'compound'])):\n",
    "                    name.append(child.text)\n",
    "                    deleted_tokens.append(child.i)\n",
    "            # name.append(token.text)\n",
    "            # print(name)\n",
    "            name = [*set(name)]\n",
    "            # print(\"name set: \",name)\n",
    "            deleted_tokens.append(token.i)\n",
    "    try:\n",
    "        name_string = \" \".join(sorted(name, key=indices.get))\n",
    "    except:\n",
    "        # print(\"indices exception\")\n",
    "        name_string = \" \".join(name)\n",
    "    for k in quantity_unit + quantity:\n",
    "        # print k\n",
    "        name_string = name_string.replace(k, \"\").strip()\n",
    "    remaining_phrase = []\n",
    "    for token in doc:\n",
    "        if token.i not in deleted_tokens:\n",
    "            remaining_phrase.append(token.text + \" \")\n",
    "    doc = nlp(\"\".join(remaining_phrase))\n",
    "    prep_hint = \"\".join(remaining_phrase)\n",
    "    # print(\"Remaining Phrase: {}\".format(\"\".join(remaining_phrase)))\n",
    "    print([name_string, \" \".join(quantity),\n",
    "          \" \".join(quantity_unit), prep_hint.strip()])\n"
   ]
  },
  {
   "cell_type": "code",
   "execution_count": 10,
   "metadata": {},
   "outputs": [],
   "source": [
    "import boto3\n",
    "s3 = boto3.client('s3')"
   ]
  },
  {
   "cell_type": "code",
   "execution_count": 11,
   "metadata": {},
   "outputs": [],
   "source": [
    "import uuid\n",
    "def create_temp_file(size, file_name, file_content):\n",
    "    random_file_name = ''.join([str(uuid.uuid4().hex[:6]), file_name])\n",
    "    with open(random_file_name, 'w') as f:\n",
    "        f.write(str(file_content) * size)\n",
    "    return random_file_name"
   ]
  },
  {
   "cell_type": "code",
   "execution_count": 12,
   "metadata": {},
   "outputs": [],
   "source": [
    "first_file_name = create_temp_file(300, 'firstfile.txt', 'f')  "
   ]
  },
  {
   "cell_type": "code",
   "execution_count": 13,
   "metadata": {},
   "outputs": [],
   "source": [
    "with open(first_file_name, \"rb\") as f:\n",
    "    s3.upload_fileobj(f, \"recipe-tasveers\", first_file_name)"
   ]
  },
  {
   "cell_type": "code",
   "execution_count": 14,
   "metadata": {},
   "outputs": [],
   "source": [
    "def upload_image_to_s3(filepath,name):\n",
    "    with open(filepath, \"rb\") as f:\n",
    "        s3.upload_fileobj(f, \"recipe-tasveers\", filepath)"
   ]
  },
  {
   "cell_type": "code",
   "execution_count": 15,
   "metadata": {},
   "outputs": [
    {
     "ename": "FileNotFoundError",
     "evalue": "[Errno 2] No such file or directory: 'DSC04075.JPG'",
     "output_type": "error",
     "traceback": [
      "\u001b[1;31m---------------------------------------------------------------------------\u001b[0m",
      "\u001b[1;31mFileNotFoundError\u001b[0m                         Traceback (most recent call last)",
      "\u001b[1;32mc:\\Users\\punee\\Documents\\GitHub\\meal-planner-scrapes\\function_builder.ipynb Cell 10\u001b[0m in \u001b[0;36m<cell line: 1>\u001b[1;34m()\u001b[0m\n\u001b[1;32m----> <a href='vscode-notebook-cell:/c%3A/Users/punee/Documents/GitHub/meal-planner-scrapes/function_builder.ipynb#X12sZmlsZQ%3D%3D?line=0'>1</a>\u001b[0m upload_image_to_s3(\u001b[39m\"\u001b[39;49m\u001b[39mDSC04075.JPG\u001b[39;49m\u001b[39m\"\u001b[39;49m,\u001b[39m\"\u001b[39;49m\u001b[39mprofile_pic\u001b[39;49m\u001b[39m\"\u001b[39;49m)\n",
      "\u001b[1;32mc:\\Users\\punee\\Documents\\GitHub\\meal-planner-scrapes\\function_builder.ipynb Cell 10\u001b[0m in \u001b[0;36mupload_image_to_s3\u001b[1;34m(filepath, name)\u001b[0m\n\u001b[0;32m      <a href='vscode-notebook-cell:/c%3A/Users/punee/Documents/GitHub/meal-planner-scrapes/function_builder.ipynb#X12sZmlsZQ%3D%3D?line=0'>1</a>\u001b[0m \u001b[39mdef\u001b[39;00m \u001b[39mupload_image_to_s3\u001b[39m(filepath,name):\n\u001b[1;32m----> <a href='vscode-notebook-cell:/c%3A/Users/punee/Documents/GitHub/meal-planner-scrapes/function_builder.ipynb#X12sZmlsZQ%3D%3D?line=1'>2</a>\u001b[0m     \u001b[39mwith\u001b[39;00m \u001b[39mopen\u001b[39;49m(filepath, \u001b[39m\"\u001b[39;49m\u001b[39mrb\u001b[39;49m\u001b[39m\"\u001b[39;49m) \u001b[39mas\u001b[39;00m f:\n\u001b[0;32m      <a href='vscode-notebook-cell:/c%3A/Users/punee/Documents/GitHub/meal-planner-scrapes/function_builder.ipynb#X12sZmlsZQ%3D%3D?line=2'>3</a>\u001b[0m         s3\u001b[39m.\u001b[39mupload_fileobj(f, \u001b[39m\"\u001b[39m\u001b[39mrecipe-tasveers\u001b[39m\u001b[39m\"\u001b[39m, filepath)\n",
      "\u001b[1;31mFileNotFoundError\u001b[0m: [Errno 2] No such file or directory: 'DSC04075.JPG'"
     ]
    }
   ],
   "source": [
    "upload_image_to_s3(\"DSC04075.JPG\",\"profile_pic\")"
   ]
  },
  {
   "cell_type": "code",
   "execution_count": null,
   "metadata": {},
   "outputs": [
    {
     "name": "stdout",
     "output_type": "stream",
     "text": [
      "crab_cakes_20230106-210828\n"
     ]
    }
   ],
   "source": [
    "import time\n",
    "recipe_name = \"crab cakes\"\n",
    "image_name = recipe_name.replace(\" \",\"_\") + \"_\" + time.strftime(\"%Y%m%d-%H%M%S\")\n",
    "print(image_name)\n"
   ]
  },
  {
   "cell_type": "code",
   "execution_count": null,
   "metadata": {},
   "outputs": [],
   "source": [
    "import requests\n",
    "recipe_title=\"something\"\n",
    "image_url=\"https://i.ytimg.com/vi_webp/NaiN7vqPpW4/sddefault.webp\"\n",
    "r = requests.get(image_url).content\n",
    "image_name = recipe_title.replace(\" \",\"_\") + \"_\" + time.strftime(\"%Y%m%d-%H%M%S\") + \".jpg\"\n",
    "with open (image_name, 'wb') as f:\n",
    "    f.write(r)"
   ]
  },
  {
   "cell_type": "code",
   "execution_count": null,
   "metadata": {},
   "outputs": [
    {
     "name": "stdout",
     "output_type": "stream",
     "text": [
      "\"https://i.ytimg.com/vi_webp/NaiN7vqPpW4/maxresdefault.webp\"\n"
     ]
    }
   ],
   "source": [
    "import re\n",
    "youtube_section= \"\"\"url(\"https://i.ytimg.com/vi_webp/NaiN7vqPpW4/maxresdefault.webp\")\"\"\"\n",
    "print(re.split('[()]',youtube_section)[1])"
   ]
  },
  {
   "cell_type": "code",
   "execution_count": null,
   "metadata": {},
   "outputs": [
    {
     "name": "stdout",
     "output_type": "stream",
     "text": [
      "[]\n"
     ]
    }
   ],
   "source": [
    "url = \"\"\"https://www.youtube.com/embed/NaiN7vqPpW4?rel=0&enablejsapi=1&origin=https%3A%2F%2Fwww.harighotra.co.uk\"\"\"\n",
    "regExp = \"\"\"/^.*((youtu.be\\/)|(v\\/)|(\\/u\\/\\w\\/)|(embed\\/)|(watch\\?))\\??v?=?([^#&?]*).*/\"\"\"\n",
    "match = re.findall(regExp,url)\n",
    "print(match)"
   ]
  },
  {
   "cell_type": "code",
   "execution_count": null,
   "metadata": {},
   "outputs": [],
   "source": [
    "from urllib.parse import urlparse, parse_qs\n",
    "\n",
    "\n",
    "def get_id(url):\n",
    "    u_pars = urlparse(url)\n",
    "    quer_v = parse_qs(u_pars.query).get('v')\n",
    "    if quer_v:\n",
    "        return quer_v[0]\n",
    "    pth = u_pars.path.split('/')\n",
    "    if pth:\n",
    "        return pth[-1]"
   ]
  },
  {
   "cell_type": "code",
   "execution_count": null,
   "metadata": {},
   "outputs": [
    {
     "name": "stdout",
     "output_type": "stream",
     "text": [
      "https://i.ytimg.com/vi_webp/NaiN7vqPpW4/maxresdefault.webp\n"
     ]
    }
   ],
   "source": [
    "im_url=\"\"\"https://i.ytimg.com/vi_webp/{}/maxresdefault.webp\"\"\".format(get_id(url))\n",
    "print(im_url)"
   ]
  }
 ],
 "metadata": {
  "kernelspec": {
   "display_name": "Python 3",
   "language": "python",
   "name": "python3"
  },
  "language_info": {
   "codemirror_mode": {
    "name": "ipython",
    "version": 3
   },
   "file_extension": ".py",
   "mimetype": "text/x-python",
   "name": "python",
   "nbconvert_exporter": "python",
   "pygments_lexer": "ipython3",
   "version": "3.10.9"
  },
  "orig_nbformat": 4,
  "vscode": {
   "interpreter": {
    "hash": "4e39d4a46883833c490301b957e0602689e04720909376d659ef8157a17fc2d0"
   }
  }
 },
 "nbformat": 4,
 "nbformat_minor": 2
}
